{
 "cells": [
  {
   "cell_type": "code",
   "execution_count": null,
   "id": "a6cd9be7-f6ee-4e5b-bd7b-c640166bc222",
   "metadata": {},
   "outputs": [],
   "source": [
    "import os\n",
    "import numpy as np\n",
    "import pandas as pd\n",
    "pd.set_option('display.max_columns', 200)\n",
    "import seaborn as sns\n",
    "import matplotlib.pyplot as plt\n",
    "plt.style.use('seaborn')\n",
    "import sys\n",
    "sys.path.append('C:/Users/Petr.Yurchenko/McKinsey_Severstal_Hack_2022')\n",
    "\n",
    "import warnings\n",
    "warnings.filterwarnings(\"ignore\")\n",
    "\n",
    "from server2022.src.train_val import *\n",
    "from server2022.src.model_features import *\n",
    "from server2022.data.processed.prepare_data import *"
   ]
  },
  {
   "cell_type": "markdown",
   "id": "a52439bf-c040-4b90-adf9-dee6966886ca",
   "metadata": {},
   "source": [
    "## All features"
   ]
  },
  {
   "cell_type": "code",
   "execution_count": null,
   "id": "23d2a0e1-4610-4021-9c97-24b0bd7b07d9",
   "metadata": {},
   "outputs": [],
   "source": [
    "df = create_df_0years_known()"
   ]
  },
  {
   "cell_type": "code",
   "execution_count": null,
   "id": "b35f2f47-fb43-460d-94a4-314423d902d7",
   "metadata": {},
   "outputs": [],
   "source": [
    "feat_gen = Feature_gen(-4, -1)\n",
    "df = feat_gen.preprocessing_before_fitting(df)\n",
    "df = df.loc[:, [col for col in df.columns if 'Факт' not in col]]"
   ]
  },
  {
   "cell_type": "code",
   "execution_count": null,
   "id": "22536e07-7250-4a0a-9025-67fc78a3319b",
   "metadata": {},
   "outputs": [],
   "source": [
    "df.head(3)"
   ]
  },
  {
   "cell_type": "code",
   "execution_count": null,
   "id": "21e3242f-b92d-40b5-ab0e-a66c4d6e8243",
   "metadata": {},
   "outputs": [],
   "source": [
    "model = CatBoostClassifier(iterations=500,\n",
    "                           depth=5, \n",
    "                           l2_leaf_reg=5, \n",
    "                           learning_rate=0.01433,\n",
    "                           loss_function='Logloss',\n",
    "                           use_best_model=False,\n",
    "                           eval_metric='AUC',\n",
    "                           verbose=False,\n",
    "                           class_weights=[1, 0.0006],\n",
    "                           random_seed=RANDOM_STATE,\n",
    "                          )\n",
    "\n",
    "make_report(model, df, treshold=0.5, to_file=False);\n",
    "\n",
    "X_train, X_test, y_train, y_test = data_split(df)\n",
    "probas = model.predict_proba(X_test)[:, 1]\n",
    "\n",
    "best = 0\n",
    "xx = 0\n",
    "for x in sorted(probas):\n",
    "    pr = precision_score(y_test, probas >= x)\n",
    "    rl = recall_score(y_test, probas >= x)\n",
    "    cur = f1_score(y_test, probas >= x)\n",
    "    if cur >= best:\n",
    "        best = cur\n",
    "        xx = x\n",
    "\n",
    "make_report(model, df, treshold=xx, to_file=True, file_path='../reports/report_0_years.csv', comment=f'all_features')"
   ]
  },
  {
   "cell_type": "markdown",
   "id": "2b4e0d91-0ed7-4b25-97f1-f90a05dbac98",
   "metadata": {},
   "source": [
    "## No features"
   ]
  },
  {
   "cell_type": "code",
   "execution_count": null,
   "id": "cb416dac-9bca-4c2d-9950-e73e1e31824b",
   "metadata": {},
   "outputs": [],
   "source": []
  },
  {
   "cell_type": "code",
   "execution_count": null,
   "id": "cb8c694e-c38f-40fc-a639-76fe9d2f9958",
   "metadata": {},
   "outputs": [],
   "source": []
  }
 ],
 "metadata": {
  "kernelspec": {
   "display_name": "Python 3 (ipykernel)",
   "language": "python",
   "name": "python3"
  },
  "language_info": {
   "codemirror_mode": {
    "name": "ipython",
    "version": 3
   },
   "file_extension": ".py",
   "mimetype": "text/x-python",
   "name": "python",
   "nbconvert_exporter": "python",
   "pygments_lexer": "ipython3",
   "version": "3.9.7"
  }
 },
 "nbformat": 4,
 "nbformat_minor": 5
}
