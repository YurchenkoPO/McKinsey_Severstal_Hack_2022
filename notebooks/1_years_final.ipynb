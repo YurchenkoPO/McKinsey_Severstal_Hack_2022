{
 "cells": [
  {
   "cell_type": "code",
   "execution_count": null,
   "id": "5aad8582-2466-4614-aa20-51f659424154",
   "metadata": {},
   "outputs": [],
   "source": [
    "import os\n",
    "import numpy as np\n",
    "import pandas as pd\n",
    "pd.set_option('display.max_columns', 200)\n",
    "import seaborn as sns\n",
    "import matplotlib.pyplot as plt\n",
    "plt.style.use('seaborn')\n",
    "import sys\n",
    "sys.path.append('C:/Users/Petr.Yurchenko/McKinsey_Severstal_Hack_2022')\n",
    "\n",
    "import warnings\n",
    "warnings.filterwarnings(\"ignore\")\n",
    "\n",
    "from server2022.src.train_val import *\n",
    "from server2022.src.model_features import *\n",
    "from server2022.data.processed.prepare_data import *"
   ]
  },
  {
   "cell_type": "code",
   "execution_count": null,
   "id": "e1d90de7-2d70-45d9-88ab-3eeeccde30b7",
   "metadata": {},
   "outputs": [],
   "source": [
    "def catboost_fit_predict(df, comment=''):\n",
    "    model = CatBoostClassifier(iterations=500,\n",
    "                               depth=5, \n",
    "                               l2_leaf_reg=5, \n",
    "                               learning_rate=0.01433,\n",
    "                               loss_function='Logloss',\n",
    "                               use_best_model=False,\n",
    "                               eval_metric='AUC',\n",
    "                               verbose=False,\n",
    "                               class_weights=[1, 0.0006],\n",
    "                               random_seed=RANDOM_STATE,\n",
    "                              )\n",
    "\n",
    "    make_report(model, df, treshold=0.5, to_file=False);\n",
    "\n",
    "    X_train, X_test, y_train, y_test = data_split(df)\n",
    "    probas = model.predict_proba(X_test)[:, 1]\n",
    "\n",
    "    best = 0\n",
    "    xx = 0\n",
    "    for x in sorted(probas):\n",
    "        pr = precision_score(y_test, probas >= x)\n",
    "        rl = recall_score(y_test, probas >= x)\n",
    "        cur = f1_score(y_test, probas >= x)\n",
    "        if cur >= best:\n",
    "            best = cur\n",
    "            xx = x\n",
    "\n",
    "    make_report(model, df, treshold=xx, to_file=True, file_path='../reports/report_1_years.csv', comment=comment)"
   ]
  },
  {
   "cell_type": "markdown",
   "id": "b6d90a38-e3e4-41cf-bc07-63faf5d2fe18",
   "metadata": {},
   "source": [
    "### All features"
   ]
  },
  {
   "cell_type": "code",
   "execution_count": null,
   "id": "ec647a91-6fe0-40e6-ab15-62c19f2de7d5",
   "metadata": {},
   "outputs": [],
   "source": [
    "df = create_df_1years_known()"
   ]
  },
  {
   "cell_type": "code",
   "execution_count": null,
   "id": "493ed9fe-8e4a-4e49-ad33-c92eed06cfd7",
   "metadata": {},
   "outputs": [],
   "source": [
    "feat_gen = Feature_gen(-4, -1)\n",
    "df = feat_gen.preprocessing_before_fitting(df)\n",
    "df = df.loc[:, [col for col in df.columns if 'Факт' not in col]]"
   ]
  },
  {
   "cell_type": "code",
   "execution_count": null,
   "id": "91ec396d-0023-471d-85e8-d3ab14482377",
   "metadata": {},
   "outputs": [],
   "source": [
    "df.head(3)"
   ]
  },
  {
   "cell_type": "code",
   "execution_count": null,
   "id": "f1224950-cb9a-4fb2-9f2f-d218f3b944f7",
   "metadata": {},
   "outputs": [],
   "source": [
    "catboost_fit_predict(df, 'all_features')"
   ]
  },
  {
   "cell_type": "markdown",
   "id": "d274e770-413a-40a0-b478-a0d0796c8075",
   "metadata": {},
   "source": [
    "## No features"
   ]
  },
  {
   "cell_type": "code",
   "execution_count": null,
   "id": "d8746448-572e-499d-8e4b-dec1ba621f73",
   "metadata": {},
   "outputs": [],
   "source": []
  },
  {
   "cell_type": "code",
   "execution_count": null,
   "id": "8c002aa4-5c6b-4838-82ff-b05e14640e09",
   "metadata": {},
   "outputs": [],
   "source": []
  },
  {
   "cell_type": "markdown",
   "id": "a346898e-4282-42d5-ad2a-15b660169adb",
   "metadata": {},
   "source": [
    "## add_growth=True"
   ]
  },
  {
   "cell_type": "code",
   "execution_count": null,
   "id": "cc91559b-8bd1-4204-a471-fbdaafb1949e",
   "metadata": {},
   "outputs": [],
   "source": []
  },
  {
   "cell_type": "code",
   "execution_count": null,
   "id": "4f0e33b1-c58a-47b4-8ab6-22c173526f05",
   "metadata": {},
   "outputs": [],
   "source": []
  },
  {
   "cell_type": "code",
   "execution_count": null,
   "id": "5455be44-feff-42d1-89af-b745fdf77641",
   "metadata": {},
   "outputs": [],
   "source": []
  },
  {
   "cell_type": "markdown",
   "id": "0208278f-205c-4e35-837c-369fba9465a8",
   "metadata": {},
   "source": [
    "## count_log_fin_vals=True"
   ]
  },
  {
   "cell_type": "code",
   "execution_count": null,
   "id": "ec6960b2-0391-40e9-b563-a4c844930e5c",
   "metadata": {},
   "outputs": [],
   "source": []
  },
  {
   "cell_type": "markdown",
   "id": "80931f7e-55dc-4d04-9bea-e8890c1aeeaa",
   "metadata": {},
   "source": [
    "## normalize_fin_columns=True"
   ]
  },
  {
   "cell_type": "code",
   "execution_count": null,
   "id": "042fa348-7569-4927-b333-8e71ca54cdc8",
   "metadata": {},
   "outputs": [],
   "source": []
  },
  {
   "cell_type": "code",
   "execution_count": null,
   "id": "5fd133ee-d516-4141-8de2-617893e1fca3",
   "metadata": {},
   "outputs": [],
   "source": []
  },
  {
   "cell_type": "code",
   "execution_count": null,
   "id": "428e4ab1-3e39-4fef-9601-9abfd18225e0",
   "metadata": {},
   "outputs": [],
   "source": []
  }
 ],
 "metadata": {
  "kernelspec": {
   "display_name": "Python 3 (ipykernel)",
   "language": "python",
   "name": "python3"
  },
  "language_info": {
   "codemirror_mode": {
    "name": "ipython",
    "version": 3
   },
   "file_extension": ".py",
   "mimetype": "text/x-python",
   "name": "python",
   "nbconvert_exporter": "python",
   "pygments_lexer": "ipython3",
   "version": "3.9.7"
  }
 },
 "nbformat": 4,
 "nbformat_minor": 5
}
