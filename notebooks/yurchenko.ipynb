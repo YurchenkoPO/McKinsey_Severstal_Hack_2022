{
 "cells": [
  {
   "cell_type": "code",
   "execution_count": 1,
   "id": "b42c8360-c4bd-4b6f-931c-fc52ab0e7944",
   "metadata": {},
   "outputs": [],
   "source": [
    "import os\n",
    "import numpy as np\n",
    "import pandas as pd\n",
    "pd.set_option('display.max_columns', 200)\n",
    "import seaborn as sns\n",
    "import matplotlib.pyplot as plt\n",
    "plt.style.use('seaborn')\n",
    "import sys\n",
    "sys.path.append('C:/Users/Petr.Yurchenko/McKinsey_Severstal_Hack_2022')\n",
    "\n",
    "from server2022.src.train_val import *\n",
    "from server2022.src.model import *\n",
    "from server2022.data.processed.prepare_data import *"
   ]
  },
  {
   "cell_type": "code",
   "execution_count": 2,
   "id": "31c5f9a0-caa7-4e50-bb8f-452a3c2d4741",
   "metadata": {},
   "outputs": [],
   "source": [
    "# agents2019 = pd.read_csv('../data/raw/agents2019.csv', index_col='Unnamed: 0')\n",
    "# agents2020 = pd.read_csv('../data/raw/agents2020.csv')\n",
    "# for c in [col for col in agents2020.columns if 'Факт' in col]:\n",
    "#     agents2020[c] = agents2020[c].apply(lambda x: float(x) if x not in ['Х', 'Н/Д'] else np.nan)\n",
    "# agents2021 = pd.read_csv('../data/raw/agents2021.csv', index_col='Unnamed: 0')\n",
    "\n",
    "# cbr = pd.read_csv('../data/raw/cbr.csv')\n",
    "# inflation = pd.read_csv('../data/raw/inflation.csv')"
   ]
  },
  {
   "cell_type": "code",
   "execution_count": 2,
   "id": "b4de6875-e7f5-4657-a24a-287bf9eb097e",
   "metadata": {},
   "outputs": [],
   "source": [
    "#df = create_df_0years_known()\n",
    "df = create_df_1year_known()"
   ]
  },
  {
   "cell_type": "code",
   "execution_count": 3,
   "id": "f4cb84a7-7f98-4630-a0e5-7a2c7a93b29c",
   "metadata": {},
   "outputs": [
    {
     "name": "stderr",
     "output_type": "stream",
     "text": [
      "\n",
      "A value is trying to be set on a copy of a slice from a DataFrame\n",
      "\n",
      "See the caveats in the documentation: https://pandas.pydata.org/pandas-docs/stable/user_guide/indexing.html#returning-a-view-versus-a-copy\n"
     ]
    }
   ],
   "source": [
    "feat_gen = Feature_gen(-4, -1)\n",
    "df = feat_gen.preprocessing_before_fitting(df)\n",
    "# df = df.loc[:, [col for col in df.columns if 'Факт' not in col]]\n",
    "# df = df.fillna(0)"
   ]
  },
  {
   "cell_type": "code",
   "execution_count": 4,
   "id": "b08339b1-0375-4988-8e9a-247e8f1ec3b8",
   "metadata": {},
   "outputs": [],
   "source": [
    "new_cols = []\n",
    "for col in df.columns:\n",
    "    for m in ['Основные средства', \n",
    "            'Внеоборотные активы',\n",
    "            'Дебиторская задолженность',\n",
    "            'Оборотные активы',\n",
    "            'Кредиторская задолженность',\n",
    "             'Краткосрочные обязательства']:\n",
    "        if m in col:\n",
    "            new_cols.append(col)"
   ]
  },
  {
   "cell_type": "code",
   "execution_count": 5,
   "id": "913a6ec2-a1e4-4439-b19b-9a4f60a242fc",
   "metadata": {
    "collapsed": true,
    "jupyter": {
     "outputs_hidden": true
    },
    "tags": []
   },
   "outputs": [
    {
     "data": {
      "text/plain": [
       "['-4, Основные средства , RUB',\n",
       " '-3, Основные средства , RUB',\n",
       " '-2, Основные средства , RUB',\n",
       " '-1, Основные средства , RUB',\n",
       " '-4, Внеоборотные активы, RUB',\n",
       " '-3, Внеоборотные активы, RUB',\n",
       " '-2, Внеоборотные активы, RUB',\n",
       " '-1, Внеоборотные активы, RUB',\n",
       " '-4, Дебиторская задолженность, RUB',\n",
       " '-3, Дебиторская задолженность, RUB',\n",
       " '-2, Дебиторская задолженность, RUB',\n",
       " '-1, Дебиторская задолженность, RUB',\n",
       " '-4, Оборотные активы, RUB',\n",
       " '-3, Оборотные активы, RUB',\n",
       " '-2, Оборотные активы, RUB',\n",
       " '-1, Оборотные активы, RUB',\n",
       " '-4, Кредиторская задолженность, RUB',\n",
       " '-3, Кредиторская задолженность, RUB',\n",
       " '-2, Кредиторская задолженность, RUB',\n",
       " '-1, Кредиторская задолженность, RUB',\n",
       " '-4, Краткосрочные обязательства, RUB',\n",
       " '-3, Краткосрочные обязательства, RUB',\n",
       " '-2, Краткосрочные обязательства, RUB',\n",
       " '-1, Краткосрочные обязательства, RUB',\n",
       " 'Основные средства  ,прирост за -3 год',\n",
       " 'Основные средства  ,прирост за -2 год',\n",
       " 'Основные средства  ,прирост за -1 год',\n",
       " 'Внеоборотные активы ,прирост за -3 год',\n",
       " 'Внеоборотные активы ,прирост за -2 год',\n",
       " 'Внеоборотные активы ,прирост за -1 год',\n",
       " 'Дебиторская задолженность ,прирост за -3 год',\n",
       " 'Дебиторская задолженность ,прирост за -2 год',\n",
       " 'Дебиторская задолженность ,прирост за -1 год',\n",
       " 'Оборотные активы ,прирост за -3 год',\n",
       " 'Оборотные активы ,прирост за -2 год',\n",
       " 'Оборотные активы ,прирост за -1 год',\n",
       " 'Кредиторская задолженность ,прирост за -3 год',\n",
       " 'Кредиторская задолженность ,прирост за -2 год',\n",
       " 'Кредиторская задолженность ,прирост за -1 год',\n",
       " 'Краткосрочные обязательства ,прирост за -3 год',\n",
       " 'Краткосрочные обязательства ,прирост за -2 год',\n",
       " 'Краткосрочные обязательства ,прирост за -1 год',\n",
       " 'Основные средства , относительный прирост за -4 год',\n",
       " 'Основные средства , прирост относительно выручки за -4 год',\n",
       " 'Основные средства , относительный прирост за -3 год',\n",
       " 'Основные средства , прирост относительно выручки за -3 год',\n",
       " 'Основные средства , относительный прирост за -2 год',\n",
       " 'Основные средства , прирост относительно выручки за -2 год',\n",
       " 'Внеоборотные активы, относительный прирост за -4 год',\n",
       " 'Внеоборотные активы, прирост относительно выручки за -4 год',\n",
       " 'Внеоборотные активы, относительный прирост за -3 год',\n",
       " 'Внеоборотные активы, прирост относительно выручки за -3 год',\n",
       " 'Внеоборотные активы, относительный прирост за -2 год',\n",
       " 'Внеоборотные активы, прирост относительно выручки за -2 год',\n",
       " 'Дебиторская задолженность, относительный прирост за -4 год',\n",
       " 'Дебиторская задолженность, прирост относительно выручки за -4 год',\n",
       " 'Дебиторская задолженность, относительный прирост за -3 год',\n",
       " 'Дебиторская задолженность, прирост относительно выручки за -3 год',\n",
       " 'Дебиторская задолженность, относительный прирост за -2 год',\n",
       " 'Дебиторская задолженность, прирост относительно выручки за -2 год',\n",
       " 'Оборотные активы, относительный прирост за -4 год',\n",
       " 'Оборотные активы, прирост относительно выручки за -4 год',\n",
       " 'Оборотные активы, относительный прирост за -3 год',\n",
       " 'Оборотные активы, прирост относительно выручки за -3 год',\n",
       " 'Оборотные активы, относительный прирост за -2 год',\n",
       " 'Оборотные активы, прирост относительно выручки за -2 год',\n",
       " 'Кредиторская задолженность, относительный прирост за -4 год',\n",
       " 'Кредиторская задолженность, прирост относительно выручки за -4 год',\n",
       " 'Кредиторская задолженность, относительный прирост за -3 год',\n",
       " 'Кредиторская задолженность, прирост относительно выручки за -3 год',\n",
       " 'Кредиторская задолженность, относительный прирост за -2 год',\n",
       " 'Кредиторская задолженность, прирост относительно выручки за -2 год',\n",
       " 'Краткосрочные обязательства, относительный прирост за -4 год',\n",
       " 'Краткосрочные обязательства, прирост относительно выручки за -4 год',\n",
       " 'Краткосрочные обязательства, относительный прирост за -3 год',\n",
       " 'Краткосрочные обязательства, прирост относительно выручки за -3 год',\n",
       " 'Краткосрочные обязательства, относительный прирост за -2 год',\n",
       " 'Краткосрочные обязательства, прирост относительно выручки за -2 год']"
      ]
     },
     "execution_count": 5,
     "metadata": {},
     "output_type": "execute_result"
    }
   ],
   "source": [
    "new_cols"
   ]
  },
  {
   "cell_type": "code",
   "execution_count": 5,
   "id": "864147f5-47a6-4db3-a3ba-8f4b0dce5c1f",
   "metadata": {},
   "outputs": [],
   "source": [
    "new_cols = new_cols + ['Наименование ДП', 'Итого', 'year', 'binary_target'] + \\\n",
    "['Макс. ПДЗ за -1 год, дней',\n",
    " 'Сред. ПДЗ за -1 год, дней',\n",
    " 'Кол-во просрочек свыше 5-ти дней за -1 год, шт.',\n",
    " 'Общая сумма ПДЗ свыше 5-ти дней за -1 год, руб.']\n",
    "df_new = df[new_cols]"
   ]
  },
  {
   "cell_type": "code",
   "execution_count": 6,
   "id": "2881eb08-3c6d-440d-93d4-95f6476180d9",
   "metadata": {
    "tags": []
   },
   "outputs": [
    {
     "name": "stdout",
     "output_type": "stream",
     "text": [
      "Fitting model LogisticRegression() with treshold = 0.5...\n"
     ]
    },
    {
     "data": {
      "image/png": "[encoded data removed]",
      "text/plain": [
       "<Figure size 576x396 with 1 Axes>"
      ]
     },
     "metadata": {},
     "output_type": "display_data"
    },
    {
     "ename": "Exception",
     "evalue": "The passed model is not callable and cannot be analyzed directly with the given masker! Model: LogisticRegression()",
     "output_type": "error",
     "traceback": [
      "\u001b[1;31m---------------------------------------------------------------------------\u001b[0m",
      "\u001b[1;31mException\u001b[0m                                 Traceback (most recent call last)",
      "File \u001b[1;32mC:\\Users/Petr.Yurchenko/McKinsey_Severstal_Hack_2022\\server2022\\src\\train_val.py:143\u001b[0m, in \u001b[0;36mmake_report\u001b[1;34m(model, X, treshold, use_cross_val, create_new_clients, to_file, file_path, comment)\u001b[0m\n\u001b[0;32m    142\u001b[0m \u001b[38;5;28;01mtry\u001b[39;00m:\n\u001b[1;32m--> 143\u001b[0m     explainer \u001b[38;5;241m=\u001b[39m \u001b[43mshap\u001b[49m\u001b[38;5;241;43m.\u001b[39;49m\u001b[43mTreeExplainer\u001b[49m\u001b[43m(\u001b[49m\u001b[43mmodel\u001b[49m\u001b[43m)\u001b[49m\n\u001b[0;32m    144\u001b[0m \u001b[38;5;28;01mexcept\u001b[39;00m:\n",
      "File \u001b[1;32m~\\AppData\\Roaming\\Python\\Python39\\site-packages\\shap\\explainers\\_tree.py:148\u001b[0m, in \u001b[0;36mTree.__init__\u001b[1;34m(self, model, data, model_output, feature_perturbation, feature_names, approximate, **deprecated_options)\u001b[0m\n\u001b[0;32m    147\u001b[0m \u001b[38;5;28mself\u001b[39m\u001b[38;5;241m.\u001b[39mexpected_value \u001b[38;5;241m=\u001b[39m \u001b[38;5;28;01mNone\u001b[39;00m\n\u001b[1;32m--> 148\u001b[0m \u001b[38;5;28mself\u001b[39m\u001b[38;5;241m.\u001b[39mmodel \u001b[38;5;241m=\u001b[39m \u001b[43mTreeEnsemble\u001b[49m\u001b[43m(\u001b[49m\u001b[43mmodel\u001b[49m\u001b[43m,\u001b[49m\u001b[43m \u001b[49m\u001b[38;5;28;43mself\u001b[39;49m\u001b[38;5;241;43m.\u001b[39;49m\u001b[43mdata\u001b[49m\u001b[43m,\u001b[49m\u001b[43m \u001b[49m\u001b[38;5;28;43mself\u001b[39;49m\u001b[38;5;241;43m.\u001b[39;49m\u001b[43mdata_missing\u001b[49m\u001b[43m,\u001b[49m\u001b[43m \u001b[49m\u001b[43mmodel_output\u001b[49m\u001b[43m)\u001b[49m\n\u001b[0;32m    149\u001b[0m \u001b[38;5;28mself\u001b[39m\u001b[38;5;241m.\u001b[39mmodel_output \u001b[38;5;241m=\u001b[39m model_output\n",
      "File \u001b[1;32m~\\AppData\\Roaming\\Python\\Python39\\site-packages\\shap\\explainers\\_tree.py:979\u001b[0m, in \u001b[0;36mTreeEnsemble.__init__\u001b[1;34m(self, model, data, data_missing, model_output)\u001b[0m\n\u001b[0;32m    978\u001b[0m \u001b[38;5;28;01melse\u001b[39;00m:\n\u001b[1;32m--> 979\u001b[0m     \u001b[38;5;28;01mraise\u001b[39;00m \u001b[38;5;167;01mException\u001b[39;00m(\u001b[38;5;124m\"\u001b[39m\u001b[38;5;124mModel type not yet supported by TreeExplainer: \u001b[39m\u001b[38;5;124m\"\u001b[39m \u001b[38;5;241m+\u001b[39m \u001b[38;5;28mstr\u001b[39m(\u001b[38;5;28mtype\u001b[39m(model)))\n\u001b[0;32m    981\u001b[0m \u001b[38;5;66;03m# build a dense numpy version of all the tree objects\u001b[39;00m\n",
      "\u001b[1;31mException\u001b[0m: Model type not yet supported by TreeExplainer: <class 'sklearn.linear_model._logistic.LogisticRegression'>",
      "\nDuring handling of the above exception, another exception occurred:\n",
      "\u001b[1;31mException\u001b[0m                                 Traceback (most recent call last)",
      "Input \u001b[1;32mIn [6]\u001b[0m, in \u001b[0;36m<cell line: 17>\u001b[1;34m()\u001b[0m\n\u001b[0;32m     15\u001b[0m \u001b[38;5;66;03m# model = RandomForestClassifier(n_estimators=30)\u001b[39;00m\n\u001b[0;32m     16\u001b[0m model \u001b[38;5;241m=\u001b[39m LogisticRegression()\n\u001b[1;32m---> 17\u001b[0m \u001b[43mmake_report\u001b[49m\u001b[43m(\u001b[49m\u001b[43mmodel\u001b[49m\u001b[43m,\u001b[49m\u001b[43m \u001b[49m\u001b[43mdf\u001b[49m\u001b[43m,\u001b[49m\u001b[43m \u001b[49m\u001b[43mtreshold\u001b[49m\u001b[38;5;241;43m=\u001b[39;49m\u001b[38;5;241;43m0.49999631089477464\u001b[39;49m\u001b[43m,\u001b[49m\u001b[43m \u001b[49m\u001b[43mto_file\u001b[49m\u001b[38;5;241;43m=\u001b[39;49m\u001b[38;5;28;43;01mFalse\u001b[39;49;00m\u001b[43m,\u001b[49m\u001b[43m \u001b[49m\u001b[43mfile_path\u001b[49m\u001b[38;5;241;43m=\u001b[39;49m\u001b[38;5;124;43m'\u001b[39;49m\u001b[38;5;124;43m../reports/report_petr.csv\u001b[39;49m\u001b[38;5;124;43m'\u001b[39;49m\u001b[43m)\u001b[49m\n\u001b[0;32m     18\u001b[0m \u001b[38;5;28mprint\u001b[39m(model\u001b[38;5;241m.\u001b[39mbest_iteration_)\n",
      "File \u001b[1;32mC:\\Users/Petr.Yurchenko/McKinsey_Severstal_Hack_2022\\server2022\\src\\train_val.py:145\u001b[0m, in \u001b[0;36mmake_report\u001b[1;34m(model, X, treshold, use_cross_val, create_new_clients, to_file, file_path, comment)\u001b[0m\n\u001b[0;32m    143\u001b[0m     explainer \u001b[38;5;241m=\u001b[39m shap\u001b[38;5;241m.\u001b[39mTreeExplainer(model)\n\u001b[0;32m    144\u001b[0m \u001b[38;5;28;01mexcept\u001b[39;00m:\n\u001b[1;32m--> 145\u001b[0m     explainer \u001b[38;5;241m=\u001b[39m \u001b[43mshap\u001b[49m\u001b[38;5;241;43m.\u001b[39;49m\u001b[43mExplainer\u001b[49m\u001b[43m(\u001b[49m\u001b[43mmodel\u001b[49m\u001b[43m)\u001b[49m\n\u001b[0;32m    146\u001b[0m shap_values \u001b[38;5;241m=\u001b[39m explainer\u001b[38;5;241m.\u001b[39mshap_values(X_test)\n\u001b[0;32m    147\u001b[0m \u001b[38;5;66;03m#shap.force_plot(explainer.expected_value, shap_values[0,:], X_test.iloc[0,:])\u001b[39;00m\n",
      "File \u001b[1;32m~\\AppData\\Roaming\\Python\\Python39\\site-packages\\shap\\explainers\\_explainer.py:168\u001b[0m, in \u001b[0;36mExplainer.__init__\u001b[1;34m(self, model, masker, link, algorithm, output_names, feature_names, linearize_link, **kwargs)\u001b[0m\n\u001b[0;32m    164\u001b[0m             algorithm \u001b[38;5;241m=\u001b[39m \u001b[38;5;124m\"\u001b[39m\u001b[38;5;124mpermutation\u001b[39m\u001b[38;5;124m\"\u001b[39m\n\u001b[0;32m    166\u001b[0m     \u001b[38;5;66;03m# if we get here then we don't know how to handle what was given to us\u001b[39;00m\n\u001b[0;32m    167\u001b[0m     \u001b[38;5;28;01melse\u001b[39;00m:\n\u001b[1;32m--> 168\u001b[0m         \u001b[38;5;28;01mraise\u001b[39;00m \u001b[38;5;167;01mException\u001b[39;00m(\u001b[38;5;124m\"\u001b[39m\u001b[38;5;124mThe passed model is not callable and cannot be analyzed directly with the given masker! Model: \u001b[39m\u001b[38;5;124m\"\u001b[39m \u001b[38;5;241m+\u001b[39m \u001b[38;5;28mstr\u001b[39m(model))\n\u001b[0;32m    170\u001b[0m \u001b[38;5;66;03m# build the right subclass\u001b[39;00m\n\u001b[0;32m    171\u001b[0m \u001b[38;5;28;01mif\u001b[39;00m algorithm \u001b[38;5;241m==\u001b[39m \u001b[38;5;124m\"\u001b[39m\u001b[38;5;124mexact\u001b[39m\u001b[38;5;124m\"\u001b[39m:\n",
      "\u001b[1;31mException\u001b[0m: The passed model is not callable and cannot be analyzed directly with the given masker! Model: LogisticRegression()"
     ]
    }
   ],
   "source": [
    "from sklearn.linear_model import LogisticRegression\n",
    "\n",
    "model = CatBoostClassifier(iterations=1000,\n",
    "                           # depth=6.0, \n",
    "                           # l2_leaf_reg=5, \n",
    "                           learning_rate=1e-6,\n",
    "                           loss_function='Logloss',\n",
    "                           use_best_model=True,\n",
    "                           eval_metric='AUC',\n",
    "                           verbose=False,\n",
    "                           # class_weights=[1, 0.001], # (df.shape[0] - df.binary_target.sum()) / df.binary_target.sum()],\n",
    "                           # cat_features=cat_features\n",
    "                          )\n",
    "\n",
    "# model = RandomForestClassifier(n_estimators=30)\n",
    "model = LogisticRegression()\n",
    "make_report(model, df, treshold=0.49999631089477464, to_file=False, file_path='../reports/report_petr.csv')\n",
    "print(model.best_iteration_)"
   ]
  },
  {
   "cell_type": "code",
   "execution_count": 9,
   "id": "c96e79dc-3700-4e99-963e-7e2ee02ae075",
   "metadata": {
    "collapsed": true,
    "jupyter": {
     "outputs_hidden": true
    },
    "tags": []
   },
   "outputs": [
    {
     "name": "stdout",
     "output_type": "stream",
     "text": [
      "Fitting model <catboost.core.CatBoostClassifier object at 0x000001F41CE23970> with treshold = 0.6...\n"
     ]
    },
    {
     "name": "stderr",
     "output_type": "stream",
     "text": [
      "Precision is ill-defined and being set to 0.0 due to no predicted samples. Use `zero_division` parameter to control this behavior.\n",
      "Precision is ill-defined and being set to 0.0 due to no predicted samples. Use `zero_division` parameter to control this behavior.\n",
      "Precision is ill-defined and being set to 0.0 due to no predicted samples. Use `zero_division` parameter to control this behavior.\n",
      "Precision is ill-defined and being set to 0.0 due to no predicted samples. Use `zero_division` parameter to control this behavior.\n",
      "Precision is ill-defined and being set to 0.0 due to no predicted samples. Use `zero_division` parameter to control this behavior.\n",
      "Precision is ill-defined and being set to 0.0 due to no predicted samples. Use `zero_division` parameter to control this behavior.\n",
      "Precision is ill-defined and being set to 0.0 due to no predicted samples. Use `zero_division` parameter to control this behavior.\n",
      "Precision is ill-defined and being set to 0.0 due to no predicted samples. Use `zero_division` parameter to control this behavior.\n",
      "Precision is ill-defined and being set to 0.0 due to no predicted samples. Use `zero_division` parameter to control this behavior.\n",
      "Precision is ill-defined and being set to 0.0 due to no predicted samples. Use `zero_division` parameter to control this behavior.\n",
      "Precision is ill-defined and being set to 0.0 due to no predicted samples. Use `zero_division` parameter to control this behavior.\n",
      "Precision is ill-defined and being set to 0.0 due to no predicted samples. Use `zero_division` parameter to control this behavior.\n",
      "Precision is ill-defined and being set to 0.0 due to no predicted samples. Use `zero_division` parameter to control this behavior.\n",
      "Precision is ill-defined and being set to 0.0 due to no predicted samples. Use `zero_division` parameter to control this behavior.\n",
      "Precision is ill-defined and being set to 0.0 due to no predicted samples. Use `zero_division` parameter to control this behavior.\n",
      "Precision is ill-defined and being set to 0.0 due to no predicted samples. Use `zero_division` parameter to control this behavior.\n",
      "Precision is ill-defined and being set to 0.0 due to no predicted samples. Use `zero_division` parameter to control this behavior.\n",
      "Precision is ill-defined and being set to 0.0 due to no predicted samples. Use `zero_division` parameter to control this behavior.\n",
      "Precision is ill-defined and being set to 0.0 due to no predicted samples. Use `zero_division` parameter to control this behavior.\n",
      "Precision is ill-defined and being set to 0.0 due to no predicted samples. Use `zero_division` parameter to control this behavior.\n",
      "Precision is ill-defined and being set to 0.0 due to no predicted samples. Use `zero_division` parameter to control this behavior.\n",
      "Precision is ill-defined and being set to 0.0 due to no predicted samples. Use `zero_division` parameter to control this behavior.\n",
      "Precision is ill-defined and being set to 0.0 due to no predicted samples. Use `zero_division` parameter to control this behavior.\n",
      "Precision is ill-defined and being set to 0.0 due to no predicted samples. Use `zero_division` parameter to control this behavior.\n",
      "Precision is ill-defined and being set to 0.0 due to no predicted samples. Use `zero_division` parameter to control this behavior.\n",
      "Precision is ill-defined and being set to 0.0 due to no predicted samples. Use `zero_division` parameter to control this behavior.\n",
      "Precision is ill-defined and being set to 0.0 due to no predicted samples. Use `zero_division` parameter to control this behavior.\n",
      "Precision is ill-defined and being set to 0.0 due to no predicted samples. Use `zero_division` parameter to control this behavior.\n",
      "Precision is ill-defined and being set to 0.0 due to no predicted samples. Use `zero_division` parameter to control this behavior.\n",
      "Precision is ill-defined and being set to 0.0 due to no predicted samples. Use `zero_division` parameter to control this behavior.\n",
      "Precision is ill-defined and being set to 0.0 due to no predicted samples. Use `zero_division` parameter to control this behavior.\n",
      "Precision is ill-defined and being set to 0.0 due to no predicted samples. Use `zero_division` parameter to control this behavior.\n",
      "Precision is ill-defined and being set to 0.0 due to no predicted samples. Use `zero_division` parameter to control this behavior.\n",
      "Precision is ill-defined and being set to 0.0 due to no predicted samples. Use `zero_division` parameter to control this behavior.\n",
      "Precision is ill-defined and being set to 0.0 due to no predicted samples. Use `zero_division` parameter to control this behavior.\n",
      "Precision is ill-defined and being set to 0.0 due to no predicted samples. Use `zero_division` parameter to control this behavior.\n",
      "Precision is ill-defined and being set to 0.0 due to no predicted samples. Use `zero_division` parameter to control this behavior.\n",
      "Precision is ill-defined and being set to 0.0 due to no predicted samples. Use `zero_division` parameter to control this behavior.\n",
      "Precision is ill-defined and being set to 0.0 due to no predicted samples. Use `zero_division` parameter to control this behavior.\n",
      "Precision is ill-defined and being set to 0.0 due to no predicted samples. Use `zero_division` parameter to control this behavior.\n",
      "Precision is ill-defined and being set to 0.0 due to no predicted samples. Use `zero_division` parameter to control this behavior.\n",
      "Precision is ill-defined and being set to 0.0 due to no predicted samples. Use `zero_division` parameter to control this behavior.\n",
      "Precision is ill-defined and being set to 0.0 due to no predicted samples. Use `zero_division` parameter to control this behavior.\n",
      "Precision is ill-defined and being set to 0.0 due to no predicted samples. Use `zero_division` parameter to control this behavior.\n",
      "Precision is ill-defined and being set to 0.0 due to no predicted samples. Use `zero_division` parameter to control this behavior.\n",
      "Precision is ill-defined and being set to 0.0 due to no predicted samples. Use `zero_division` parameter to control this behavior.\n",
      "Precision is ill-defined and being set to 0.0 due to no predicted samples. Use `zero_division` parameter to control this behavior.\n",
      "Precision is ill-defined and being set to 0.0 due to no predicted samples. Use `zero_division` parameter to control this behavior.\n",
      "Precision is ill-defined and being set to 0.0 due to no predicted samples. Use `zero_division` parameter to control this behavior.\n",
      "Precision is ill-defined and being set to 0.0 due to no predicted samples. Use `zero_division` parameter to control this behavior.\n",
      "Precision is ill-defined and being set to 0.0 due to no predicted samples. Use `zero_division` parameter to control this behavior.\n",
      "Precision is ill-defined and being set to 0.0 due to no predicted samples. Use `zero_division` parameter to control this behavior.\n",
      "Precision is ill-defined and being set to 0.0 due to no predicted samples. Use `zero_division` parameter to control this behavior.\n",
      "Precision is ill-defined and being set to 0.0 due to no predicted samples. Use `zero_division` parameter to control this behavior.\n",
      "Precision is ill-defined and being set to 0.0 due to no predicted samples. Use `zero_division` parameter to control this behavior.\n",
      "Precision is ill-defined and being set to 0.0 due to no predicted samples. Use `zero_division` parameter to control this behavior.\n",
      "Precision is ill-defined and being set to 0.0 due to no predicted samples. Use `zero_division` parameter to control this behavior.\n",
      "Precision is ill-defined and being set to 0.0 due to no predicted samples. Use `zero_division` parameter to control this behavior.\n",
      "Precision is ill-defined and being set to 0.0 due to no predicted samples. Use `zero_division` parameter to control this behavior.\n",
      "Precision is ill-defined and being set to 0.0 due to no predicted samples. Use `zero_division` parameter to control this behavior.\n",
      "Precision is ill-defined and being set to 0.0 due to no predicted samples. Use `zero_division` parameter to control this behavior.\n",
      "Precision is ill-defined and being set to 0.0 due to no predicted samples. Use `zero_division` parameter to control this behavior.\n",
      "Precision is ill-defined and being set to 0.0 due to no predicted samples. Use `zero_division` parameter to control this behavior.\n",
      "Precision is ill-defined and being set to 0.0 due to no predicted samples. Use `zero_division` parameter to control this behavior.\n",
      "Precision is ill-defined and being set to 0.0 due to no predicted samples. Use `zero_division` parameter to control this behavior.\n",
      "Precision is ill-defined and being set to 0.0 due to no predicted samples. Use `zero_division` parameter to control this behavior.\n",
      "Precision is ill-defined and being set to 0.0 due to no predicted samples. Use `zero_division` parameter to control this behavior.\n",
      "Precision is ill-defined and being set to 0.0 due to no predicted samples. Use `zero_division` parameter to control this behavior.\n",
      "Precision is ill-defined and being set to 0.0 due to no predicted samples. Use `zero_division` parameter to control this behavior.\n",
      "Precision is ill-defined and being set to 0.0 due to no predicted samples. Use `zero_division` parameter to control this behavior.\n",
      "Precision is ill-defined and being set to 0.0 due to no predicted samples. Use `zero_division` parameter to control this behavior.\n",
      "Precision is ill-defined and being set to 0.0 due to no predicted samples. Use `zero_division` parameter to control this behavior.\n",
      "Precision is ill-defined and being set to 0.0 due to no predicted samples. Use `zero_division` parameter to control this behavior.\n",
      "Precision is ill-defined and being set to 0.0 due to no predicted samples. Use `zero_division` parameter to control this behavior.\n",
      "Precision is ill-defined and being set to 0.0 due to no predicted samples. Use `zero_division` parameter to control this behavior.\n",
      "Precision is ill-defined and being set to 0.0 due to no predicted samples. Use `zero_division` parameter to control this behavior.\n",
      "Precision is ill-defined and being set to 0.0 due to no predicted samples. Use `zero_division` parameter to control this behavior.\n",
      "Precision is ill-defined and being set to 0.0 due to no predicted samples. Use `zero_division` parameter to control this behavior.\n",
      "Precision is ill-defined and being set to 0.0 due to no predicted samples. Use `zero_division` parameter to control this behavior.\n",
      "Precision is ill-defined and being set to 0.0 due to no predicted samples. Use `zero_division` parameter to control this behavior.\n",
      "Precision is ill-defined and being set to 0.0 due to no predicted samples. Use `zero_division` parameter to control this behavior.\n",
      "Precision is ill-defined and being set to 0.0 due to no predicted samples. Use `zero_division` parameter to control this behavior.\n",
      "Precision is ill-defined and being set to 0.0 due to no predicted samples. Use `zero_division` parameter to control this behavior.\n",
      "Precision is ill-defined and being set to 0.0 due to no predicted samples. Use `zero_division` parameter to control this behavior.\n",
      "Precision is ill-defined and being set to 0.0 due to no predicted samples. Use `zero_division` parameter to control this behavior.\n",
      "Precision is ill-defined and being set to 0.0 due to no predicted samples. Use `zero_division` parameter to control this behavior.\n",
      "Precision is ill-defined and being set to 0.0 due to no predicted samples. Use `zero_division` parameter to control this behavior.\n",
      "Precision is ill-defined and being set to 0.0 due to no predicted samples. Use `zero_division` parameter to control this behavior.\n",
      "Precision is ill-defined and being set to 0.0 due to no predicted samples. Use `zero_division` parameter to control this behavior.\n",
      "Precision is ill-defined and being set to 0.0 due to no predicted samples. Use `zero_division` parameter to control this behavior.\n",
      "Precision is ill-defined and being set to 0.0 due to no predicted samples. Use `zero_division` parameter to control this behavior.\n",
      "Precision is ill-defined and being set to 0.0 due to no predicted samples. Use `zero_division` parameter to control this behavior.\n",
      "Precision is ill-defined and being set to 0.0 due to no predicted samples. Use `zero_division` parameter to control this behavior.\n",
      "Precision is ill-defined and being set to 0.0 due to no predicted samples. Use `zero_division` parameter to control this behavior.\n",
      "Precision is ill-defined and being set to 0.0 due to no predicted samples. Use `zero_division` parameter to control this behavior.\n",
      "Precision is ill-defined and being set to 0.0 due to no predicted samples. Use `zero_division` parameter to control this behavior.\n",
      "Precision is ill-defined and being set to 0.0 due to no predicted samples. Use `zero_division` parameter to control this behavior.\n",
      "Precision is ill-defined and being set to 0.0 due to no predicted samples. Use `zero_division` parameter to control this behavior.\n",
      "Precision is ill-defined and being set to 0.0 due to no predicted samples. Use `zero_division` parameter to control this behavior.\n"
     ]
    },
    {
     "data": {
      "image/png": "[encoded data removed]",
      "text/plain": [
       "<Figure size 864x504 with 1 Axes>"
      ]
     },
     "metadata": {},
     "output_type": "display_data"
    }
   ],
   "source": [
    "model = CatBoostClassifier(iterations=1000,\n",
    "                           # depth=6.0, \n",
    "                           # l2_leaf_reg=4.17, \n",
    "                           learning_rate=1e-6,\n",
    "                           loss_function='Logloss',\n",
    "                           use_best_model=True,\n",
    "                           eval_metric='F1',\n",
    "                           verbose=False,\n",
    "                           class_weights=[1, 1e-3],\n",
    "                          )\n",
    "\n",
    "#model = RandomForestClassifier(n_estimators=30)\n",
    "validate_treshold(model, df)"
   ]
  },
  {
   "cell_type": "code",
   "execution_count": 11,
   "id": "9ad39996-40b1-407f-9b70-25cb980f88d2",
   "metadata": {},
   "outputs": [],
   "source": [
    "X_train, X_test, y_train, y_test = data_split(df)"
   ]
  },
  {
   "cell_type": "code",
   "execution_count": 36,
   "id": "7d497189-5b57-4ded-8826-e25648bdbb07",
   "metadata": {},
   "outputs": [],
   "source": [
    "roc_auc = roc_auc_score(y_test, model.predict_proba(X_test)[:, 1])"
   ]
  },
  {
   "cell_type": "code",
   "execution_count": 12,
   "id": "62dd65bc-ed86-4acf-89c7-b3f8f0e58dcf",
   "metadata": {},
   "outputs": [
    {
     "data": {
      "text/plain": [
       "array([0.51197897, 0.52018929, 0.5       , 0.52408726, 0.5       ,\n",
       "       0.51408853, 0.5010888 , 0.63631081, 0.50782711, 0.5       ,\n",
       "       0.5       , 0.5       , 0.5       , 0.50234127, 0.5       ,\n",
       "       0.5020147 , 0.5       , 0.5       , 0.5       , 0.56362563,\n",
       "       0.51733268, 0.52681544, 0.50288194, 0.51094148, 0.5       ,\n",
       "       0.7549652 , 0.5       , 0.5       , 0.5       , 0.51085833,\n",
       "       0.5691883 , 0.98709609, 0.5       , 0.5       , 0.5       ,\n",
       "       0.5       , 0.77315697, 0.51162303, 0.5       , 0.50333609,\n",
       "       0.5       , 0.5       , 0.617374  , 0.5       , 0.5       ,\n",
       "       0.5060677 , 0.52083385, 0.5       , 0.52723466, 0.55383624,\n",
       "       0.58767946, 0.58637673, 0.51282374, 0.50823221, 0.5       ,\n",
       "       0.57395376, 0.59561618, 0.5       , 0.63204837, 0.9455328 ,\n",
       "       0.52034074, 0.5       , 0.5       , 0.56966351, 0.5       ,\n",
       "       0.5       , 0.73000842, 0.5       , 0.5       , 0.54350436,\n",
       "       0.50342251, 0.5       , 0.54156905, 0.5145925 , 0.50039085,\n",
       "       0.50472051, 0.81924393, 0.5       , 0.5       , 0.61311133,\n",
       "       0.51969941, 0.5       , 0.52289852, 0.50004161, 0.5       ,\n",
       "       0.5       , 0.62137061, 0.52892601, 0.5       , 0.60562943,\n",
       "       0.51973709, 0.50524685, 0.5       , 0.5       , 0.55374456,\n",
       "       0.5092762 , 0.50129369, 0.5       , 0.5       , 0.5       ,\n",
       "       0.52761261, 0.53503383, 0.50326654, 0.505393  , 0.5       ,\n",
       "       0.5       , 0.5       , 0.53927198, 0.5       , 0.5       ,\n",
       "       0.51731155, 0.5       , 0.50265249, 0.52498512, 0.50084443,\n",
       "       0.50564878, 0.5       , 0.51477454, 0.50139196, 0.5       ,\n",
       "       0.50672346, 0.51822005, 0.50984549, 0.5       , 0.5       ,\n",
       "       0.5486967 , 0.5       , 0.57010775, 0.87183898, 0.54398946,\n",
       "       0.53505345, 0.5       , 0.50016567, 0.51322889, 0.5032573 ,\n",
       "       0.5059088 , 0.52244138, 0.5       , 0.5       , 0.54489124,\n",
       "       0.50189659, 0.5       , 0.505723  , 0.65431849, 0.51817943,\n",
       "       0.5       , 0.60590615, 0.56806126, 0.50006249, 0.50000079,\n",
       "       0.73277202, 0.5       , 0.55492074, 0.50420389, 0.5       ,\n",
       "       0.51139387, 0.5       , 0.5       , 0.9452546 , 0.50274679,\n",
       "       0.5       , 0.5       , 0.50597673, 0.50546462, 0.63269396,\n",
       "       0.5       , 0.5       , 0.5117574 , 0.50623348, 0.5       ,\n",
       "       0.50265298, 0.50243935, 0.6235377 , 0.5       , 0.5       ,\n",
       "       0.55335655, 0.5       , 0.5       , 0.5       , 0.50243662,\n",
       "       0.5       , 0.5       , 0.51223573, 0.5342626 , 0.60213804,\n",
       "       0.52105942, 0.5       , 0.5       , 0.5       , 0.5       ,\n",
       "       0.52025348, 0.50823189, 0.5       , 0.50329084, 0.5       ,\n",
       "       0.5       , 0.63125555, 0.5       , 0.88910666, 0.50396885,\n",
       "       0.50235604, 0.96933717, 0.5       , 0.6424471 , 0.89156811,\n",
       "       0.5       , 0.51673642, 0.53020303, 0.55897043, 0.52355741,\n",
       "       0.53359851, 0.5       , 0.5       , 0.50008406, 0.93351356,\n",
       "       0.5       , 0.50396436, 0.53812575, 0.5       , 0.88511076,\n",
       "       0.5       , 0.55227968, 0.5       , 0.5       , 0.73309603,\n",
       "       0.5       , 0.50364942, 0.51106859, 0.5       , 0.50017113,\n",
       "       0.5       , 0.5       , 0.57541295, 0.5       , 0.54337668,\n",
       "       0.52836766, 0.5       , 0.5       , 0.5       , 0.50755817,\n",
       "       0.5       , 0.51124735, 0.58870162, 0.52040117, 0.56006486,\n",
       "       0.5       , 0.5       , 0.5       , 0.5       , 0.50902069,\n",
       "       0.5       , 0.5       , 0.5       , 0.5       , 0.88851682,\n",
       "       0.5       , 0.53758977, 0.5       , 0.5       , 0.5       ,\n",
       "       0.5487889 , 0.50729977, 0.51047226, 0.5       , 0.56129859,\n",
       "       0.5037635 , 0.5       , 0.5       , 0.5       , 0.5       ,\n",
       "       0.5       , 0.50620649, 0.50355639, 0.5       , 0.5       ,\n",
       "       0.5       , 0.5       , 0.5       , 0.5       , 0.99709519,\n",
       "       0.5       , 0.50608611, 0.5       , 0.5       , 0.5       ,\n",
       "       0.5       , 0.5       , 0.5       , 0.5       , 0.5       ,\n",
       "       0.74494216, 0.5       , 0.51730274, 0.50103644, 0.5       ,\n",
       "       0.5       , 0.5       , 0.50008669, 0.5       , 0.55696032,\n",
       "       0.5       , 0.5       , 0.50267704, 0.5       , 0.5       ,\n",
       "       0.5       , 0.5467798 , 0.5       , 0.54765363, 0.53986275,\n",
       "       0.5       , 0.53093784, 0.50205335, 0.89382062, 0.5       ,\n",
       "       0.66114433, 0.5       , 0.5       , 0.50125856, 0.56065398,\n",
       "       0.5       , 0.5       , 0.5       , 0.5       , 0.5       ])"
      ]
     },
     "execution_count": 12,
     "metadata": {},
     "output_type": "execute_result"
    }
   ],
   "source": [
    "model.predict_proba(X_test)[:, 1]"
   ]
  },
  {
   "cell_type": "code",
   "execution_count": 40,
   "id": "f70919d4-cde5-49b0-b462-05b20255737f",
   "metadata": {},
   "outputs": [],
   "source": [
    "best = 0\n",
    "xx = 0\n",
    "for x in sorted(probas):\n",
    "    pr = precision_score(y_test, probas >= x)\n",
    "    rl = recall_score(y_test, probas >= x)\n",
    "    best_ = pr * rl\n",
    "    if best_ >= best:\n",
    "        best = best_\n",
    "        xx = x\n"
   ]
  },
  {
   "cell_type": "code",
   "execution_count": 42,
   "id": "625d8ae5-20ae-4479-a658-d87d781392f6",
   "metadata": {},
   "outputs": [
    {
     "data": {
      "text/plain": [
       "0.49999631089477464"
      ]
     },
     "execution_count": 42,
     "metadata": {},
     "output_type": "execute_result"
    }
   ],
   "source": [
    "xx"
   ]
  },
  {
   "cell_type": "code",
   "execution_count": 44,
   "id": "513cd56e-7419-40c0-bdbf-7a7fb6209d30",
   "metadata": {},
   "outputs": [
    {
     "data": {
      "text/plain": [
       "(0.5772357723577236, 0.6396396396396397)"
      ]
     },
     "execution_count": 44,
     "metadata": {},
     "output_type": "execute_result"
    }
   ],
   "source": [
    "precision_score(y_test, probas >= xx), recall_score(y_test, probas >= xx)"
   ]
  },
  {
   "cell_type": "code",
   "execution_count": null,
   "id": "3b930e72-a208-4c08-9bf3-e73fbde3f381",
   "metadata": {},
   "outputs": [],
   "source": []
  }
 ],
 "metadata": {
  "kernelspec": {
   "display_name": "Python 3 (ipykernel)",
   "language": "python",
   "name": "python3"
  },
  "language_info": {
   "codemirror_mode": {
    "name": "ipython",
    "version": 3
   },
   "file_extension": ".py",
   "mimetype": "text/x-python",
   "name": "python",
   "nbconvert_exporter": "python",
   "pygments_lexer": "ipython3",
   "version": "3.9.7"
  }
 },
 "nbformat": 4,
 "nbformat_minor": 5
}
